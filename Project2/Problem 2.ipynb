{
 "cells": [
  {
   "cell_type": "code",
   "execution_count": 2,
   "metadata": {},
   "outputs": [],
   "source": [
    "import pandas as pd\n",
    "import numpy as np\n",
    "import os\n",
    "%config IPCompleter.greedy=True"
   ]
  },
  {
   "cell_type": "code",
   "execution_count": 3,
   "metadata": {},
   "outputs": [],
   "source": [
    "OUTPUT_DIR = 'outputs/'\n",
    "INPUT_DIR = 'data/'\n",
    "\n",
    "HOD_same = 'HumanObserved-Dataset/same_pairs.csv'\n",
    "HOD_diff = 'HumanObserved-Dataset/diffn_pairs.csv'\n",
    "HOD_features = 'HumanObserved-Dataset/HumanObserved-Features-Data.csv'    \n",
    "\n",
    "GSC_same = 'GSC-Dataset/same_pairs.csv'\n",
    "GSC_diff = 'GSC-Dataset/same_pairs.csv'\n",
    "GSC_features = 'GSC-Dataset/GSC_Features.csv'"
   ]
  },
  {
   "cell_type": "code",
   "execution_count": 100,
   "metadata": {},
   "outputs": [
    {
     "name": "stdout",
     "output_type": "stream",
     "text": [
      "(791, 3) (1000, 3) (1026, 11)\n",
      "['img_id_A' 'img_id_B' 'target' 'f1_a' 'f2_a' 'f3_a' 'f4_a' 'f5_a' 'f6_a'\n",
      " 'f7_a' 'f8_a' 'f9_a' 'f1_b' 'f2_b' 'f3_b' 'f4_b' 'f5_b' 'f6_b' 'f7_b'\n",
      " 'f8_b' 'f9_b']\n"
     ]
    }
   ],
   "source": [
    "category_dict = {\n",
    "    'hod' : [HOD_same, HOD_diff, HOD_features],\n",
    "    'gsc' : [GSC_same, GSC_diff, GSC_features],\n",
    "}\n",
    "same, diff, features = category_dict['hod']\n",
    "\n",
    "same_data = pd.read_csv(os.path.join(INPUT_DIR, same), sep=',', nrows = 1000)\n",
    "diff_data = pd.read_csv(os.path.join(INPUT_DIR, diff),  sep=',', nrows = 1000)\n",
    "features_data = pd.read_csv(os.path.join(INPUT_DIR, features), sep=',')\n",
    "\n",
    "# print(same_data.columns.values, diff_data.columns.values, features_data.columns.values)\n",
    "print(same_data.shape, diff_data.shape, features_data.shape)\n",
    "merged_data = pd.concat([same_data, diff_data])\n",
    "# print(merged_data.shape)\n",
    "temp = pd.merge(merged_data, features_data, left_on='img_id_A', right_on='img_id', how='left')\n",
    "temp = pd.merge(temp, features_data, left_on='img_id_B', right_on='img_id', how='left', suffixes = ('_a', '_b'))\n",
    "temp = temp.drop(columns = ['img_id_a', 'img_id_b', 'Unnamed: 0_a', 'Unnamed: 0_b'])\n",
    "raw_data = temp.iloc[:,3:]\n",
    "raw_target = temp[\"target\"]\n",
    "# print(temp.shape)\n",
    "print(temp.columns.values)\n",
    "# print(raw_target, raw_data)\n",
    "# temp = pd.merge(same_data, diff_data)\n",
    "# print(features_data[3:9])"
   ]
  },
  {
   "cell_type": "code",
   "execution_count": 93,
   "metadata": {},
   "outputs": [],
   "source": [
    "# merged_data = pd.concat([same_data, diff_data])\n",
    "# temp = pd.merge(merged_data, features_data, left_on='img_id_A', right_on='img_id', how='left')\n",
    "# temp = pd.merge(temp, features_data, left_on='img_id_B', right_on='img_id', how='left', suffixes = ('_a', '_b'))\n",
    "# temp['f1'] = abs(temp['f1_a']-temp['f1_b'])\n",
    "# temp['f2'] = abs(temp['f2_a']-temp['f2_b'])\n",
    "# temp['f3'] = abs(temp['f3_a']-temp['f3_b'])\n",
    "# temp['f4'] = abs(temp['f4_a']-temp['f4_b'])\n",
    "# temp['f5'] = abs(temp['f5_a']-temp['f5_b'])\n",
    "# temp['f6'] = abs(temp['f6_a']-temp['f6_b'])\n",
    "# temp['f7'] = abs(temp['f7_a']-temp['f7_b'])\n",
    "# temp['f8'] = abs(temp['f8_a']-temp['f8_b'])\n",
    "# temp['f9'] = abs(temp['f9_a']-temp['f9_b'])\n",
    "# temp = temp.drop(columns = ['img_id_a', 'img_id_b', 'Unnamed: 0_a', 'Unnamed: 0_b', ])\n",
    "# temp = temp.drop(columns = ['f1_a','f2_a','f3_a','f4_a','f5_a','f6_a','f7_a','f8_a','f9_a'])\n",
    "# temp = temp.drop(columns = ['f1_b','f2_b','f3_b','f4_b','f5_b','f6_b','f7_b','f8_b','f9_b'])\n",
    "# print(temp.shape, temp.columns.values, temp.loc[1,:])\n"
   ]
  },
  {
   "cell_type": "code",
   "execution_count": 6,
   "metadata": {},
   "outputs": [],
   "source": [
    "feature_cat = {'hod':''}"
   ]
  },
  {
   "cell_type": "code",
   "execution_count": 101,
   "metadata": {},
   "outputs": [
    {
     "name": "stdout",
     "output_type": "stream",
     "text": [
      "   f1  f2  f3  f4  f5  f6  f7  f8  f9\n",
      "1   0   0   1   3   0   0   1   1   0\n",
      "2   1   0   0   1   0   1   0   1   0\n",
      "3   1   0   0   3   0   0   0   0   0\n",
      "4   0   0   0   3   0   0   0   2   0\n",
      "1    1\n",
      "2    1\n",
      "3    1\n",
      "4    1\n",
      "Name: target, dtype: int64\n"
     ]
    }
   ],
   "source": [
    "# print(merged_data.iloc[:,2])\n",
    "temp1 = pd.merge(merged_data, features_data, left_on='img_id_A', right_on='img_id', how='left')\n",
    "temp2 = pd.merge(merged_data, features_data, left_on='img_id_B', right_on='img_id', how='left')\n",
    "raw_data = abs(temp1.iloc[:,5:] - temp2.iloc[:,5:])\n",
    "raw_target = merged_data['target']\n",
    "print(raw_data[1:5])\n",
    "print(raw_target.iloc[1:5])\n",
    "# print(merged_data.iloc[1], feature_diff.iloc[1])\n",
    "# target = temp1.loc['target']\n",
    "# print(target)\n",
    "# merged_data.iloc[3:] = feature_diff\n",
    "# print(merged_data.iloc[1])\n",
    "# print(temp1.columns.values)"
   ]
  },
  {
   "cell_type": "code",
   "execution_count": null,
   "metadata": {},
   "outputs": [],
   "source": []
  },
  {
   "cell_type": "code",
   "execution_count": null,
   "metadata": {},
   "outputs": [],
   "source": []
  }
 ],
 "metadata": {
  "kernelspec": {
   "display_name": "Python 3",
   "language": "python",
   "name": "python3"
  },
  "language_info": {
   "codemirror_mode": {
    "name": "ipython",
    "version": 3
   },
   "file_extension": ".py",
   "mimetype": "text/x-python",
   "name": "python",
   "nbconvert_exporter": "python",
   "pygments_lexer": "ipython3",
   "version": "3.6.6"
  }
 },
 "nbformat": 4,
 "nbformat_minor": 2
}
