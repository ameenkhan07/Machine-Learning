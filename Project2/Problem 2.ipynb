{
 "cells": [
  {
   "cell_type": "code",
   "execution_count": 1,
   "metadata": {},
   "outputs": [],
   "source": [
    "import pandas as pd\n",
    "import numpy as np\n",
    "import os\n",
    "import math\n",
    "from sklearn.cluster import KMeans\n",
    "%config IPCompleter.greedy=True"
   ]
  },
  {
   "cell_type": "code",
   "execution_count": 2,
   "metadata": {},
   "outputs": [],
   "source": [
    "# Data Files\n",
    "OUTPUT_DIR = 'outputs/'\n",
    "INPUT_DIR = 'data/'\n",
    "\n",
    "HOD_same = 'HumanObserved-Dataset/same_pairs.csv'\n",
    "HOD_diff = 'HumanObserved-Dataset/diffn_pairs.csv'\n",
    "HOD_features = 'HumanObserved-Dataset/HumanObserved-Features-Data.csv'\n",
    "\n",
    "GSC_same = 'GSC-Dataset/same_pairs.csv'\n",
    "GSC_diff = 'GSC-Dataset/same_pairs.csv'\n",
    "GSC_features = 'GSC-Dataset/GSC-Features.csv'"
   ]
  },
  {
   "cell_type": "code",
   "execution_count": 3,
   "metadata": {},
   "outputs": [],
   "source": [
    "# Linear Regression Variables\n",
    "TrainingPercent = 80 # Data Split for Training Data\n",
    "ValidationPercent = 10 # Data Split for Validation Data\n",
    "TestPercent = 10 # Data Split for Testing Data\n",
    "\n",
    "\n",
    "M = 10\n",
    "C_Lambda = 0.03\n",
    "learningRate = 0.01\n"
   ]
  },
  {
   "cell_type": "code",
   "execution_count": 4,
   "metadata": {},
   "outputs": [],
   "source": [
    "def _remove_zero_cols(data):\n",
    "    \"\"\"Returns ndarray with no zero columns\n",
    "    \"\"\"\n",
    "    data = data.transpose()\n",
    "    data = data[~np.all(data == 0, axis=1)]\n",
    "    data = data.transpose()\n",
    "    return data\n",
    "\n",
    "\n",
    "def _append_dataframes(same_data, diff_data):\n",
    "    \"\"\"Appends the dataframes one after another.\n",
    "    \"\"\"\n",
    "    appended_data = pd.concat([same_data, diff_data])\n",
    "    appended_data = appended_data.sample(frac=1)\n",
    "    return(appended_data)\n"
   ]
  },
  {
   "cell_type": "code",
   "execution_count": 5,
   "metadata": {},
   "outputs": [],
   "source": [
    "def _concat_dataframes(same_data, diff_data, features_data):\n",
    "    \"\"\"\n",
    "    \"\"\"\n",
    "    # Combine the diff and concat data\n",
    "    appended_data = _append_dataframes(same_data, diff_data)\n",
    "    # Remove columns if exist\n",
    "    if 'Unnamed: 0' in features_data.columns.values:\n",
    "        features_data = features_data.drop(columns=['Unnamed: 0'])\n",
    "\n",
    "    # Merge the datatables, same and diff\n",
    "    merged_data = pd.merge(appended_data, features_data,\n",
    "                           left_on='img_id_A', right_on='img_id', how='left')\n",
    "    merged_data = pd.merge(merged_data, features_data, left_on='img_id_B',\n",
    "                           right_on='img_id', how='left', suffixes=('_a', '_b'))\n",
    "    merged_data = merged_data.drop(columns=['img_id_a', 'img_id_b'])\n",
    "    raw_data = merged_data.loc[:, 'f1_a':].values\n",
    "    raw_data = _remove_zero_cols(raw_data)\n",
    "    raw_target = merged_data['target'].values\n",
    "    return(raw_data, raw_target)\n",
    "\n",
    "\n",
    "def _subtract_dataframes(same_data, diff_data, features_data):\n",
    "    \"\"\"Subtract img_id_a columns with img_id_b_columns\n",
    "    \"\"\"\n",
    "    appended_data = _append_dataframes(same_data, diff_data)\n",
    "    temp1 = pd.merge(appended_data, features_data,\n",
    "                     left_on='img_id_A', right_on='img_id', how='left')\n",
    "    temp2 = pd.merge(appended_data, features_data,\n",
    "                     left_on='img_id_B', right_on='img_id', how='left')\n",
    "    raw_data = abs(temp1.loc[:, 'f1':] - temp2.loc[:, 'f1':]).values\n",
    "\n",
    "    raw_data = _remove_zero_cols(raw_data)\n",
    "    raw_target = appended_data['target'].values\n",
    "\n",
    "    return(raw_data, raw_target)\n"
   ]
  },
  {
   "cell_type": "code",
   "execution_count": 6,
   "metadata": {},
   "outputs": [],
   "source": [
    "def get_data_features(category='hod', operation='concat'):\n",
    "    \"\"\"Returns concat/subtracted feature values\n",
    "    Merge the same and diff datasets, and process the data columns\n",
    "    \"\"\"\n",
    "    category_dict = {\n",
    "        'hod': [HOD_same, HOD_diff, HOD_features],\n",
    "        'gsc': [GSC_same, GSC_diff, GSC_features],\n",
    "    }\n",
    "    same, diff, features = category_dict[category]\n",
    "    same_data = pd.read_csv(os.path.join(INPUT_DIR, same), sep=',', nrows=1000)\n",
    "    diff_data = pd.read_csv(os.path.join(\n",
    "        INPUT_DIR, diff),  sep=',', nrows=1000)\n",
    "    features_data = pd.read_csv(os.path.join(INPUT_DIR, features), sep=',')\n",
    "\n",
    "    if operation == 'concat':\n",
    "        raw_data, raw_target = _concat_dataframes(\n",
    "            same_data, diff_data, features_data)\n",
    "\n",
    "    if operation == 'subtract':\n",
    "        raw_data, raw_target = _subtract_dataframes(\n",
    "            same_data, diff_data, features_data)\n",
    "\n",
    "    return(raw_data, raw_target)\n"
   ]
  },
  {
   "cell_type": "code",
   "execution_count": 7,
   "metadata": {},
   "outputs": [
    {
     "name": "stdout",
     "output_type": "stream",
     "text": [
      "(2000, 874) (2000,)\n"
     ]
    }
   ],
   "source": [
    "# data1_d, data1_t = get_data_features('hod', operation='concat')\n",
    "# print(data1_d.shape, data1_t.shape)\n",
    "# data1_d, data1_t = get_data_features('hod', operation='subtract')\n",
    "# print(data1_d.shape, data1_t.shape)\n",
    "data1_d, data1_t = get_data_features('gsc', operation='concat')\n",
    "print(data1_d.shape, data1_t.shape)\n",
    "# data4_d, data4_t = get_data_features('gsc', operation='subtract')\n",
    "# print(data4_d.shape, data4_t.shape)"
   ]
  },
  {
   "cell_type": "code",
   "execution_count": 8,
   "metadata": {},
   "outputs": [
    {
     "name": "stdout",
     "output_type": "stream",
     "text": [
      "(874, 1600) (874, 200) (874, 200)\n",
      "(1600,) (200,) (200,)\n"
     ]
    }
   ],
   "source": [
    "training_ratio = math.floor(data1_d.shape[0]*.8)\n",
    "val_test_ratio = math.floor(data1_d.shape[0]*.9)\n",
    "training_data, training_target = data1_d[:training_ratio], data1_t[:training_ratio]\n",
    "validation_data, validation_target  = data1_d[training_ratio:val_test_ratio], data1_t[training_ratio:val_test_ratio]\n",
    "testing_data, testing_target = data1_d[val_test_ratio:], data1_t[val_test_ratio:]\n",
    "data1_d, training_data, testing_data, validation_data = data1_d.transpose(), training_data.transpose(), testing_data.transpose(), validation_data.transpose()\n",
    "print(training_data.shape, testing_data.shape, validation_data.shape)\n",
    "print(training_target.shape, testing_target.shape, validation_target.shape)\n",
    "# "
   ]
  },
  {
   "cell_type": "code",
   "execution_count": 9,
   "metadata": {},
   "outputs": [],
   "source": [
    "def GenerateBigSigma(Data):\n",
    "    \"\"\"Generate and returns the covariance Matrix for the data. \n",
    "    Parameters:\n",
    "    -----------\n",
    "        Data : Raw data of 4 features\n",
    "        TrainingPercent: Percent of raw data which is for training purposes\n",
    "    Returns:\n",
    "    -------\n",
    "        BigSigma: Covariance\n",
    "    \"\"\"\n",
    "\n",
    "    BigSigma = np.zeros((len(Data), len(Data)))\n",
    "    DataT = np.transpose(Data)\n",
    "    # print(len(DataT), \".........\", DataT[0])\n",
    "    TrainingLen = math.ceil(len(DataT))\n",
    "    varVect = []\n",
    "    for i in range(0, len(DataT[0])):\n",
    "        vct = []\n",
    "        for j in range(0, int(TrainingLen)):\n",
    "            vct.append(Data[i][j])\n",
    "        varVect.append(np.var(vct))\n",
    "\n",
    "    for j in range(len(Data)):\n",
    "        BigSigma[j][j] = varVect[j]\n",
    "    BigSigma = np.dot(200, BigSigma)\n",
    "    ##print (\"BigSigma Generated..\")\n",
    "    return BigSigma"
   ]
  },
  {
   "cell_type": "code",
   "execution_count": 10,
   "metadata": {},
   "outputs": [],
   "source": [
    "def GetScalar(DataRow, MuRow, BigSigInv):\n",
    "    \"\"\"Utility function for calculating the Radial Basis Function\n",
    "    \"\"\"\n",
    "\n",
    "    R = np.subtract(DataRow, MuRow)\n",
    "    T = np.dot(BigSigInv, np.transpose(R))\n",
    "    L = np.dot(R, T)\n",
    "    return L\n",
    "\n",
    "\n",
    "def GetRadialBasisOut(DataRow, MuRow, BigSigInv):\n",
    "    \"\"\"Returns Gaussian Radial Basis Function for\n",
    "    \"\"\"\n",
    "    phi_x = math.exp(-0.5 * GetScalar(DataRow, MuRow, BigSigInv))\n",
    "    return phi_x\n",
    "\n",
    "def GetPhiMatrix(Data, MuMatrix, BigSigma):\n",
    "    \"\"\"Computes and returns the design matrix\n",
    "    Parameters:\n",
    "    -----------\n",
    "        Data:\n",
    "        MuMatrix:\n",
    "        BigSigma:\n",
    "        TrainingPercent:\n",
    "    Returns:\n",
    "    ---------\n",
    "        PHI: Design Matrix\n",
    "    \"\"\"\n",
    "    DataT = np.transpose(Data)\n",
    "    TrainingLen = math.ceil(len(DataT))\n",
    "    PHI = np.zeros((int(TrainingLen), len(MuMatrix)))\n",
    "    BigSigInv = np.linalg.inv(BigSigma)\n",
    "    for C in range(0, len(MuMatrix)):\n",
    "        for R in range(0, int(TrainingLen)):\n",
    "            PHI[R][C] = GetRadialBasisOut(DataT[R], MuMatrix[C], BigSigInv)\n",
    "    #print (\"PHI Generated..\")\n",
    "    return PHI\n"
   ]
  },
  {
   "cell_type": "code",
   "execution_count": 11,
   "metadata": {},
   "outputs": [
    {
     "name": "stdout",
     "output_type": "stream",
     "text": [
      "(10, 874) (874, 874)\n"
     ]
    }
   ],
   "source": [
    "M = 10\n",
    "kmeans = KMeans(n_clusters=M, random_state=0).fit(np.transpose(training_data))\n",
    "Mu = kmeans.cluster_centers_\n",
    "Mu.shape\n",
    "BigSigma = GenerateBigSigma(data1_d)\n",
    "print(Mu.shape, BigSigma.shape)"
   ]
  },
  {
   "cell_type": "code",
   "execution_count": 12,
   "metadata": {},
   "outputs": [],
   "source": [
    "TRAINING_PHI = GetPhiMatrix(training_data, Mu, BigSigma)\n",
    "TEST_PHI = GetPhiMatrix(testing_data, Mu, BigSigma)\n",
    "VAL_PHI = GetPhiMatrix(validation_data, Mu, BigSigma)"
   ]
  },
  {
   "cell_type": "code",
   "execution_count": 13,
   "metadata": {},
   "outputs": [
    {
     "name": "stdout",
     "output_type": "stream",
     "text": [
      "(1600, 10) (200, 10) (200, 10)\n"
     ]
    }
   ],
   "source": [
    "print(TRAINING_PHI.shape, TEST_PHI.shape, VAL_PHI.shape)"
   ]
  },
  {
   "cell_type": "code",
   "execution_count": 14,
   "metadata": {},
   "outputs": [
    {
     "data": {
      "text/plain": [
       "(10,)"
      ]
     },
     "execution_count": 14,
     "metadata": {},
     "output_type": "execute_result"
    }
   ],
   "source": [
    "W = np.array([0,0,0,0,0,0,0,0,0,0])\n",
    "W.shape"
   ]
  },
  {
   "cell_type": "code",
   "execution_count": 15,
   "metadata": {},
   "outputs": [],
   "source": [
    "def GetValTest(PHI, W):\n",
    "    \"\"\"Computes and returns the linear regression function\n",
    "    Parameters:\n",
    "    -----------\n",
    "        PHI : M Basis Functions\n",
    "        W : weight vector\n",
    "    \"\"\"\n",
    "    Y = np.dot(W, np.transpose(PHI))\n",
    "    ##print (\"Test Out Generated..\")\n",
    "    return Y\n",
    "\n",
    "\n",
    "def GetErms(VAL_TEST_OUT, ValDataAct):\n",
    "    \"\"\"Computes and returns ERMS and accuracy values\n",
    "    rms for the output data\n",
    "    \"\"\"\n",
    "    _sum, _counter = 0.0, 0\n",
    "    for i in range(0, len(VAL_TEST_OUT)):\n",
    "        _sum = _sum + math.pow((ValDataAct[i] - VAL_TEST_OUT[i]), 2)\n",
    "        if (int(np.around(VAL_TEST_OUT[i], 0)) == ValDataAct[i]):\n",
    "            _counter += 1\n",
    "    accuracy = (float((_counter * 100)) / float(len(VAL_TEST_OUT)))\n",
    "    ##print (\"Accuracy Generated..\")\n",
    "    ##print (\"Validation E_RMS : \" + str(math.sqrt(_sum/len(VAL_TEST_OUT))))\n",
    "    return (str(accuracy) + ',' + str(math.sqrt(_sum / len(VAL_TEST_OUT))))\n",
    "\n",
    "def get_sgd_solution(TRAINING_PHI, TEST_PHI, VAL_PHI, W_Now, TrainingData,\n",
    "                     TrainingTarget, TestData, TestDataAct, ValData, ValDataAct):\n",
    "    \"\"\"Computed weights for x datapoints iteratively updating, and returns the Erms for training, testing and validation data, as well as the testing accuracy.\n",
    "    \"\"\"\n",
    "    # Gradient Descent Solution for Linear Regression\n",
    "    La = 2\n",
    "    # learningRate = 0.01\n",
    "    L_Erms_Val, L_Erms_TR, L_Erms_Test, L_Accuracy_Test, W_Mat = [], [], [], [], []\n",
    "\n",
    "    for i in range(0, 1000):\n",
    "\n",
    "        # print (f'---------Iteration: {i} M{M} LR {learningRate} L :{C_Lambda}--------------')\n",
    "        Delta_E_D = -np.dot(\n",
    "            (TrainingTarget[i] - np.dot(np.transpose(W_Now), TRAINING_PHI[i])),\n",
    "            TRAINING_PHI[i])\n",
    "        La_Delta_E_W = np.dot(La, W_Now)\n",
    "        Delta_E = np.add(Delta_E_D, La_Delta_E_W)\n",
    "        Delta_W = -np.dot(learningRate, Delta_E)\n",
    "        W_T_Next = W_Now + Delta_W\n",
    "        W_Now = W_T_Next\n",
    "\n",
    "        #-----------------TrainingData Accuracy---------------------#\n",
    "        TR_TEST_OUT = GetValTest(TRAINING_PHI, W_T_Next)\n",
    "        Erms_TR = GetErms(TR_TEST_OUT, TrainingTarget)\n",
    "        L_Erms_TR.append(float(Erms_TR.split(',')[1]))\n",
    "\n",
    "        #-----------------ValidationData Accuracy---------------------#\n",
    "        VAL_TEST_OUT = GetValTest(VAL_PHI, W_T_Next)\n",
    "        Erms_Val = GetErms(VAL_TEST_OUT, ValDataAct)\n",
    "        L_Erms_Val.append(float(Erms_Val.split(',')[1]))\n",
    "\n",
    "        #-----------------TestingData Accuracy---------------------#\n",
    "        TEST_OUT = GetValTest(TEST_PHI, W_T_Next)\n",
    "        Erms_Test = GetErms(TEST_OUT, TestDataAct)\n",
    "        L_Erms_Test.append(float(Erms_Test.split(',')[1]))\n",
    "        L_Accuracy_Test.append(float(Erms_Test.split(',')[0]))\n",
    "\n",
    "    return ([L_Erms_TR, L_Erms_Val, L_Erms_Test, L_Accuracy_Test])\n"
   ]
  },
  {
   "cell_type": "code",
   "execution_count": 16,
   "metadata": {},
   "outputs": [],
   "source": [
    "L_Erms_TR, L_Erms_Val, L_Erms_Test, L_Accuracy_Test = get_sgd_solution(\n",
    "        TRAINING_PHI, TEST_PHI, VAL_PHI, W, training_data, training_target,\n",
    "        testing_data, testing_target, validation_data, validation_target)"
   ]
  },
  {
   "cell_type": "code",
   "execution_count": 17,
   "metadata": {},
   "outputs": [
    {
     "name": "stdout",
     "output_type": "stream",
     "text": [
      "1000\n"
     ]
    }
   ],
   "source": [
    "print(len(L_Erms_TR))"
   ]
  },
  {
   "cell_type": "code",
   "execution_count": 18,
   "metadata": {},
   "outputs": [
    {
     "name": "stdout",
     "output_type": "stream",
     "text": [
      "M = 10 \n",
      "Lambda  = 0.03\n",
      "eta=0.01\n",
      "E_rms Training   = 0.94591\n",
      "E_rms Validation = 0.94604\n",
      "E_rms Testing    = 0.94685\n",
      "Testing Accuracy = 0.94685\n"
     ]
    }
   ],
   "source": [
    "print(f\"M = {M} \\nLambda  = {C_Lambda}\\neta={learningRate}\")\n",
    "print(\"E_rms Training   = \" + str(np.around(min(L_Erms_TR), 5)))\n",
    "print(\"E_rms Validation = \" + str(np.around(min(L_Erms_Val), 5)))\n",
    "print(\"E_rms Testing    = \" + str(np.around(min(L_Erms_Test), 5)))\n",
    "print(\"Testing Accuracy = \" + str(np.around(min(L_Erms_Test), 5)))\n"
   ]
  }
 ],
 "metadata": {
  "kernelspec": {
   "display_name": "Python 3",
   "language": "python",
   "name": "python3"
  },
  "language_info": {
   "codemirror_mode": {
    "name": "ipython",
    "version": 3
   },
   "file_extension": ".py",
   "mimetype": "text/x-python",
   "name": "python",
   "nbconvert_exporter": "python",
   "pygments_lexer": "ipython3",
   "version": "3.6.6"
  }
 },
 "nbformat": 4,
 "nbformat_minor": 2
}
